{
 "cells": [
  {
   "cell_type": "markdown",
   "metadata": {},
   "source": [
    "# ValidationAgent Interactive Testing\n",
    "\n",
    "This notebook tests the ValidationAgent's functionality in an interactive environment, verifying:\n",
    "- Domain-aware validation\n",
    "- Content validation with different configurations\n",
    "- Error handling and recovery\n",
    "- Memory integration\n",
    "- Reflection capabilities"
   ]
  },
  {
   "cell_type": "code",
   "execution_count": null,
   "metadata": {},
   "source": [
    "import sys\n",
    "sys.path.append('..')\n",
    "\n",
    "from src.nia.agents.specialized.validation_agent import ValidationAgent\n",
    "from src.nia.memory.memory_types import AgentResponse\n",
    "from src.nia.nova.core.validation import ValidationResult\n",
    "\n",
    "# Import test fixtures\n",
    "from tests.conftest import mock_memory_system, mock_world, base_agent_config"
   ]
  },
  {
   "cell_type": "code",
   "execution_count": null,
   "metadata": {},
   "source": [
    "# Initialize ValidationAgent\n",
    "agent = ValidationAgent(\n",
    "    name=\"TestValidation\",\n",
    "    memory_system=mock_memory_system,\n",
    "    world=mock_world,\n",
    "    attributes={\n",
    "        \"type\": \"validation\",\n",
    "        \"occupation\": \"Content Validator\",\n",
    "        \"domain\": \"professional\",\n",
    "        \"desires\": [\n",
    "            \"Ensure content quality\",\n",
    "            \"Validate domain boundaries\",\n",
    "            \"Identify potential issues\",\n",
    "            \"Maintain validation standards\"\n",
    "        ],\n",
    "        \"emotions\": {\n",
    "            \"baseline\": \"analytical\",\n",
    "            \"towards_validation\": \"focused\",\n",
    "            \"towards_domain\": \"mindful\",\n",
    "            \"validation_state\": \"neutral\",\n",
    "            \"domain_state\": \"neutral\"\n",
    "        },\n",
    "        \"capabilities\": [\n",
    "            \"content_validation\",\n",
    "            \"domain_validation\",\n",
    "            \"issue_detection\",\n",
    "            \"quality_assessment\"\n",
    "        ]\n",
    "    },\n",
    "    domain=\"professional\"\n",
    ")\n",
    "\n",
    "await agent.initialize()"
   ]
  },
  {
   "cell_type": "markdown",
   "metadata": {},
   "source": [
    "## Test Basic Content Validation"
   ]
  },
  {
   "cell_type": "code",
   "execution_count": null,
   "metadata": {},
   "source": [
    "# Test content with high importance\n",
    "content = {\n",
    "    \"content\": \"Test content for validation\",\n",
    "    \"type\": \"test\",\n",
    "    \"metadata\": {\n",
    "        \"importance\": \"high\",\n",
    "        \"impact\": \"significant\",\n",
    "        \"urgency\": \"medium\"\n",
    "    }\n",
    "}\n",
    "\n",
    "result = await agent.validate_and_store(\n",
    "    content,\n",
    "    validation_type=\"structure\",\n",
    "    target_domain=\"professional\"\n",
    ")\n",
    "\n",
    "print(f\"Validation Result:\\n{result}\")"
   ]
  },
  {
   "cell_type": "markdown",
   "metadata": {},
   "source": [
    "## Test Domain Access Validation"
   ]
  },
  {
   "cell_type": "code",
   "execution_count": null,
   "metadata": {},
   "source": [
    "# Test allowed domain\n",
    "try:\n",
    "    await agent.validate_domain_access(\"professional\")\n",
    "    print(\"Professional domain access: Allowed\")\n",
    "except Exception as e:\n",
    "    print(f\"Professional domain access: Denied - {str(e)}\")\n",
    "\n",
    "# Test restricted domain\n",
    "try:\n",
    "    await agent.validate_domain_access(\"restricted\")\n",
    "    print(\"Restricted domain access: Allowed\")\n",
    "except Exception as e:\n",
    "    print(f\"Restricted domain access: Denied - {str(e)}\")"
   ]
  },
  {
   "cell_type": "markdown",
   "metadata": {},
   "source": [
    "## Test Error Handling"
   ]
  },
  {
   "cell_type": "code",
   "execution_count": null,
   "metadata": {},
   "source": [
    "# Test with invalid content\n",
    "invalid_content = {\n",
    "    \"content\": None,\n",
    "    \"type\": \"invalid\"\n",
    "}\n",
    "\n",
    "result = await agent.validate_and_store(\n",
    "    invalid_content,\n",
    "    validation_type=\"structure\"\n",
    ")\n",
    "\n",
    "print(f\"Error Handling Result:\\n{result}\")"
   ]
  },
  {
   "cell_type": "markdown",
   "metadata": {},
   "source": [
    "## Test Reflection Recording"
   ]
  },
  {
   "cell_type": "code",
   "execution_count": null,
   "metadata": {},
   "source": [
    "# Test with content requiring reflection\n",
    "reflection_content = {\n",
    "    \"content\": \"Content for reflection testing\",\n",
    "    \"metadata\": {\n",
    "        \"importance\": \"high\",\n",
    "        \"impact\": \"significant\",\n",
    "        \"urgency\": \"immediate\"\n",
    "    }\n",
    "}\n",
    "\n",
    "result = await agent.validate_and_store(\n",
    "    reflection_content,\n",
    "    validation_type=\"structure\"\n",
    ")\n",
    "\n",
    "print(f\"Reflection Result:\\n{result}\")"
   ]
  }
 ],
 "metadata": {
  "kernelspec": {
   "display_name": "Python 3",
   "language": "python",
   "name": "python3"
  },
  "language_info": {
   "codemirror_mode": {
    "name": "ipython",
    "version": 3
   },
   "file_extension": ".py",
   "mimetype": "text/x-python",
   "name": "python",
   "nbconvert_exporter": "python",
   "pygments_lexer": "ipython3",
   "version": "3.12"
  }
 },
 "nbformat": 4,
 "nbformat_minor": 4
}
