{
 "cells": [
  {
   "cell_type": "markdown",
   "metadata": {},
   "source": [
    "# NIA Core Agent Testing\n",
    "\n",
    "This notebook provides interactive testing of core agents to verify their functionality and interactions."
   ]
  },
  {
   "cell_type": "code",
   "execution_count": null,
   "metadata": {},
   "source": [
    "import sys\n",
    "sys.path.append('..')\n",
    "\n",
    "from src.nia.agents.base import TinyPerson\n",
    "from src.nia.memory.two_layer import TwoLayerMemorySystem\n",
    "from src.nia.nova.orchestrator import Nova\n",
    "\n",
    "# Import core agents\n",
    "from src.nia.agents.specialized.parsing_agent import ParsingAgent\n",
    "from src.nia.agents.specialized.belief_agent import BeliefAgent\n",
    "from src.nia.agents.specialized.emotion_agent import EmotionAgent\n",
    "from src.nia.agents.specialized.reflection_agent import ReflectionAgent\n",
    "from src.nia.agents.specialized.desire_agent import DesireAgent"
   ]
  },
  {
   "cell_type": "markdown",
   "metadata": {},
   "source": [
    "## 1. Memory System Setup\n",
    "\n",
    "Initialize the two-layer memory system with Neo4j and vector store."
   ]
  },
  {
   "cell_type": "code",
   "execution_count": null,
   "metadata": {},
   "source": [
    "# Initialize memory system\n",
    "memory = TwoLayerMemorySystem(\n",
    "    neo4j_uri=\"bolt://localhost:7687\",\n",
    "    neo4j_user=\"neo4j\",\n",
    "    neo4j_password=\"password\"\n",
    ")\n",
    "\n",
    "# Test memory operations\n",
    "await memory.store_with_domain(\n",
    "    content=\"This is a test memory\",\n",
    "    domain=\"personal\"\n",
    ")\n",
    "\n",
    "# Query test\n",
    "result = await memory.query_by_domain(\n",
    "    query=\"test memory\",\n",
    "    domain=\"personal\"\n",
    ")\n",
    "print(\"Memory Query Result:\", result)"
   ]
  },
  {
   "cell_type": "markdown",
   "metadata": {},
   "source": [
    "## 2. Core Agent Testing\n",
    "\n",
    "Test each core agent's functionality individually."
   ]
  },
  {
   "cell_type": "code",
   "execution_count": null,
   "metadata": {},
   "source": [
    "# Initialize agents\n",
    "parsing_agent = ParsingAgent()\n",
    "belief_agent = BeliefAgent()\n",
    "emotion_agent = EmotionAgent()\n",
    "reflection_agent = ReflectionAgent()\n",
    "desire_agent = DesireAgent()\n",
    "\n",
    "# Test parsing agent\n",
    "test_text = \"I need to create a documentation site for the project.\"\n",
    "parsed_result = await parsing_agent.parse_text(test_text)\n",
    "print(\"Parsing Result:\", parsed_result)"
   ]
  },
  {
   "cell_type": "markdown",
   "metadata": {},
   "source": [
    "## 3. Belief and Emotion Processing\n",
    "\n",
    "Test belief formation and emotional response processing."
   ]
  },
  {
   "cell_type": "code",
   "execution_count": null,
   "metadata": {},
   "source": [
    "# Test belief formation\n",
    "test_evidence = \"The project needs better documentation based on user feedback.\"\n",
    "belief_result = await belief_agent.process_evidence(test_evidence)\n",
    "print(\"Belief Formation:\", belief_result)\n",
    "\n",
    "# Test emotional response\n",
    "emotion_result = await emotion_agent.process_input(test_evidence)\n",
    "print(\"Emotional Analysis:\", emotion_result)"
   ]
  },
  {
   "cell_type": "markdown",
   "metadata": {},
   "source": [
    "## 4. Reflection and Desire Processing\n",
    "\n",
    "Test reflection capabilities and desire formation."
   ]
  },
  {
   "cell_type": "code",
   "execution_count": null,
   "metadata": {},
   "source": [
    "# Test reflection\n",
    "reflection_input = {\n",
    "    \"current_state\": \"Documentation needs improvement\",\n",
    "    \"past_actions\": [\"Created initial docs\", \"Received feedback\"],\n",
    "    \"outcomes\": [\"Users found docs unclear\"]\n",
    "}\n",
    "reflection_result = await reflection_agent.reflect(reflection_input)\n",
    "print(\"Reflection Result:\", reflection_result)\n",
    "\n",
    "# Test desire formation\n",
    "desire_result = await desire_agent.process_motivation(\n",
    "    context=\"Documentation improvement needed\",\n",
    "    priority=\"high\"\n",
    ")\n",
    "print(\"Desire Formation:\", desire_result)"
   ]
  },
  {
   "cell_type": "markdown",
   "metadata": {},
   "source": [
    "## 5. Nova Orchestration\n",
    "\n",
    "Test Nova's ability to coordinate multiple agents."
   ]
  },
  {
   "cell_type": "code",
   "execution_count": null,
   "metadata": {},
   "source": [
    "# Initialize Nova\n",
    "nova = Nova(memory_system=memory)\n",
    "\n",
    "# Register agents\n",
    "nova.register_agent(parsing_agent)\n",
    "nova.register_agent(belief_agent)\n",
    "nova.register_agent(emotion_agent)\n",
    "nova.register_agent(reflection_agent)\n",
    "nova.register_agent(desire_agent)\n",
    "\n",
    "# Test multi-agent coordination\n",
    "test_input = \"We should improve the documentation based on user feedback.\"\n",
    "result = await nova.process_input(test_input)\n",
    "print(\"Nova Coordination Result:\", result)"
   ]
  },
  {
   "cell_type": "markdown",
   "metadata": {},
   "source": [
    "## 6. Emergent Task Detection\n",
    "\n",
    "Test the system's ability to detect and handle emergent tasks."
   ]
  },
  {
   "cell_type": "code",
   "execution_count": null,
   "metadata": {},
   "source": [
    "# Test emergent task detection\n",
    "conversation = [\n",
    "    \"The documentation needs to be more comprehensive.\",\n",
    "    \"We should add more code examples.\",\n",
    "    \"Users are requesting better API documentation.\"\n",
    "]\n",
    "\n",
    "for message in conversation:\n",
    "    result = await nova.process_conversation(message)\n",
    "    print(f\"\\nMessage: {message}\")\n",
    "    print(\"Processing Result:\", result)\n",
    "    \n",
    "# Check emergent tasks\n",
    "emergent_tasks = nova.get_emergent_tasks()\n",
    "print(\"\\nEmergent Tasks:\", emergent_tasks)"
   ]
  },
  {
   "cell_type": "markdown",
   "metadata": {},
   "source": [
    "## 7. Memory Integration\n",
    "\n",
    "Test how agents interact with the memory system."
   ]
  },
  {
   "cell_type": "code",
   "execution_count": null,
   "metadata": {},
   "source": [
    "# Test memory integration\n",
    "test_interaction = \"User feedback suggests adding more code examples to docs.\"\n",
    "\n",
    "# Store in memory\n",
    "await memory.store_with_domain(test_interaction, \"work\")\n",
    "\n",
    "# Process with agents\n",
    "parsed = await parsing_agent.parse_text(test_interaction)\n",
    "beliefs = await belief_agent.process_evidence(test_interaction)\n",
    "reflection = await reflection_agent.reflect({\n",
    "    \"current_state\": test_interaction,\n",
    "    \"past_actions\": [],\n",
    "    \"outcomes\": []\n",
    "})\n",
    "\n",
    "print(\"Memory Integration Results:\")\n",
    "print(\"Parsed:\", parsed)\n",
    "print(\"Beliefs:\", beliefs)\n",
    "print(\"Reflection:\", reflection)"
   ]
  },
  {
   "cell_type": "markdown",
   "metadata": {},
   "source": [
    "## 8. Domain Awareness\n",
    "\n",
    "Test how agents handle different domains (personal vs. work)."
   ]
  },
  {
   "cell_type": "code",
   "execution_count": null,
   "metadata": {},
   "source": [
    "# Test domain handling\n",
    "personal_input = \"I should review my learning progress.\"\n",
    "work_input = \"The team needs to update the API documentation.\"\n",
    "\n",
    "# Process both domains\n",
    "personal_result = await nova.process_input(personal_input, domain=\"personal\")\n",
    "work_result = await nova.process_input(work_input, domain=\"work\")\n",
    "\n",
    "print(\"Personal Domain Result:\", personal_result)\n",
    "print(\"Work Domain Result:\", work_result)"
   ]
  },
  {
   "cell_type": "markdown",
   "metadata": {},
   "source": [
    "## 9. Error Handling\n",
    "\n",
    "Test how the system handles various error conditions."
   ]
  },
  {
   "cell_type": "code",
   "execution_count": null,
   "metadata": {},
   "source": [
    "# Test error handling\n",
    "try:\n",
    "    # Test with invalid domain\n",
    "    result = await nova.process_input(\"Test message\", domain=\"invalid\")\n",
    "except ValueError as e:\n",
    "    print(\"Domain Error:\", e)\n",
    "\n",
    "try:\n",
    "    # Test with missing memory connection\n",
    "    memory.neo4j_store = None\n",
    "    result = await nova.process_input(\"Test message\")\n",
    "except Exception as e:\n",
    "    print(\"Memory Error:\", e)\n",
    "\n",
    "# Restore memory connection\n",
    "memory = TwoLayerMemorySystem(\n",
    "    neo4j_uri=\"bolt://localhost:7687\",\n",
    "    neo4j_user=\"neo4j\",\n",
    "    neo4j_password=\"password\"\n",
    ")"
   ]
  }
 ],
 "metadata": {
  "kernelspec": {
   "display_name": "Python 3",
   "language": "python",
   "name": "python3"
  },
  "language_info": {
   "codemirror_mode": {
    "name": "ipython",
    "version": 3
   },
   "file_extension": ".py",
   "mimetype": "text/x-python",
   "name": "python",
   "nbconvert_exporter": "python",
   "pygments_lexer": "ipython3",
   "version": "3.8.0"
  }
 },
 "nbformat": 4,
 "nbformat_minor": 4
}
